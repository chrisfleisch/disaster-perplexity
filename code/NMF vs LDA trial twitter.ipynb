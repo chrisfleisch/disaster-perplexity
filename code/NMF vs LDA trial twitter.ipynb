{
 "cells": [
  {
   "cell_type": "code",
   "execution_count": 98,
   "metadata": {
    "collapsed": true
   },
   "outputs": [],
   "source": [
    "import pandas as pd\n",
    "import numpy as np\n",
    "import re\n",
    "import glob\n",
    "from sklearn.feature_extraction.text import TfidfVectorizer, CountVectorizer\n",
    "from sklearn.decomposition import NMF, LatentDirichletAllocation\n",
    "from sklearn.datasets import make_moons\n",
    "\n",
    "\n",
    "%matplotlib inline"
   ]
  },
  {
   "cell_type": "code",
   "execution_count": 99,
   "metadata": {},
   "outputs": [
    {
     "data": {
      "text/plain": [
       "137"
      ]
     },
     "execution_count": 99,
     "metadata": {},
     "output_type": "execute_result"
    },
    {
     "data": {
      "image/png": "[encoded data removed]",
      "text/plain": [
       "<matplotlib.figure.Figure at 0x111ef8b90>"
      ]
     },
     "metadata": {},
     "output_type": "display_data"
    }
   ],
   "source": [
    "pd.read_csv(\"/Users/krista/Desktop/w266-project-master/data/data_Las_Vegas/2017-09-11.csv\", delimiter=\";\")[\"favorites\"].hist()\n",
    "np.sum(pd.read_csv(\"/Users/krista/Desktop/w266-project-master/data/data_Las_Vegas/2017-09-11.csv\", delimiter=\";\")[\"favorites\"] > 0)"
   ]
  },
  {
   "cell_type": "code",
   "execution_count": 100,
   "metadata": {
    "collapsed": true
   },
   "outputs": [],
   "source": [
    "n_samples = 2000\n",
    "n_features = 1000\n",
    "n_components = 20\n",
    "n_top_words = 20"
   ]
  },
  {
   "cell_type": "code",
   "execution_count": 101,
   "metadata": {
    "collapsed": true
   },
   "outputs": [],
   "source": [
    "def print_top_words(model, feature_names, n_top_words):\n",
    "    for topic_idx, topic in enumerate(model.components):\n",
    "        message = \"Topic #%d: \" % topic_idx\n",
    "        message += \" \".join([feature_names[i]\n",
    "                             for i in topic.argsort()[:-n_top_words - 1:-1]])\n",
    "        print(message)\n",
    "    print()"
   ]
  },
  {
   "cell_type": "code",
   "execution_count": 102,
   "metadata": {},
   "outputs": [
    {
     "data": {
      "text/plain": [
       "374"
      ]
     },
     "execution_count": 102,
     "metadata": {},
     "output_type": "execute_result"
    }
   ],
   "source": [
    "np.sum(pd.read_csv(\"/Users/krista/Desktop/w266-project-master/data/data_Las_Vegas/2017-09-10.csv\", delimiter=\";\")[\"favorites\"] < 1)"
   ]
  },
  {
   "cell_type": "code",
   "execution_count": 103,
   "metadata": {
    "collapsed": true
   },
   "outputs": [],
   "source": [
    "pattern = \"http\""
   ]
  },
  {
   "cell_type": "code",
   "execution_count": 104,
   "metadata": {},
   "outputs": [],
   "source": [
    "dirs = glob.glob(\"/Users/krista/Desktop/w266-project-master/data/data_Las_Vegas/*.csv\")\n",
    "sentences = []\n",
    "\n",
    "def clean(dirs):\n",
    "\n",
    "    for dir_ in dirs:\n",
    "        try:\n",
    "            df = pd.read_csv(dir_, delimiter=\";\")\n",
    "    #         df = df[~df.text.str.contains(pattern)]\n",
    "            new_sentences = list(df['text'].values)\n",
    "            for sentence in new_sentences:\n",
    "    #             regex = re.compile('[^a-zA-Z]')\n",
    "    #             sentence = regex.sub(sentence, regex)\n",
    "                sentence = re.sub(r'^https?:\\/\\/.*[\\r\\n]*', '', sentence, flags=re.MULTILINE)\n",
    "                sentence = re.sub(\" \\d+\", '', sentence)\n",
    "                sentence = re.sub(r'\\w*\\d\\w*', '', sentence)\n",
    "\n",
    "                sentences.append(sentence)\n",
    "        except Exception as e:\n",
    "            print e"
   ]
  },
  {
   "cell_type": "code",
   "execution_count": 105,
   "metadata": {},
   "outputs": [
    {
     "name": "stdout",
     "output_type": "stream",
     "text": [
      "expected string or buffer\n",
      "Error tokenizing data. C error: Expected 10 fields in line 1755, saw 11\n",
      "\n",
      "Error tokenizing data. C error: Expected 10 fields in line 239, saw 11\n",
      "\n",
      "expected string or buffer\n",
      "Error tokenizing data. C error: Expected 10 fields in line 296, saw 11\n",
      "\n",
      "expected string or buffer\n",
      "expected string or buffer\n",
      "expected string or buffer\n",
      "expected string or buffer\n",
      "expected string or buffer\n",
      "expected string or buffer\n",
      "expected string or buffer\n",
      "expected string or buffer\n",
      "expected string or buffer\n",
      "expected string or buffer\n",
      "expected string or buffer\n",
      "expected string or buffer\n"
     ]
    }
   ],
   "source": [
    "clean(dirs)"
   ]
  },
  {
   "cell_type": "code",
   "execution_count": 78,
   "metadata": {},
   "outputs": [
    {
     "name": "stdout",
     "output_type": "stream",
     "text": [
      "29966\n"
     ]
    }
   ],
   "source": [
    "print len(sentences)"
   ]
  },
  {
   "cell_type": "code",
   "execution_count": 79,
   "metadata": {},
   "outputs": [
    {
     "data": {
      "text/plain": [
       "['Congratulations to Mr. & Mrs. Clifford! Another sister to the lot\\xe2\\x80\\xa6 https://www. instagram.com/p/ / \\xe2\\x80\\xa6',\n",
       " '#cloudwatcherextraordinaire @Las Vegas, Nevada https://www. instagram.com/p//',\n",
       " 'We made a #realtor very happy with our #homestaging job today! #realestate #interiordesign \\xe2\\x80\\xa6 https://www. instagram.com/p//',\n",
       " '#Sammich with #flaminghotcheetos spread #lasvegas #foodie #food #sandwich # #downtownlv @\\xe2\\x80\\xa6 https://www. instagram.com/p//',\n",
       " 'clear sky -> few clouds temperature up\\xc2\\xb0F ->\\xc2\\xb0F humidity down% ->%',\n",
       " \"Blessed to have spent time with old friends and new this past week. They remind me of all that's\\xe2\\x80\\xa6 https://www. instagram.com/p//\",\n",
       " '#PAzAZzStArChoreographer #THEREALPAZAZZ #pazazz #me #vegas #lasvegas @Las Vegas, Nevada https://www. instagram.com/p//',\n",
       " 'Niners just just as bad with Hoyer at QB. It will be another long season. On the bright side, the Seacocks lost.',\n",
       " '#sundayfunday #rehabpoolparty @Rehab Las Vegas https://www. instagram.com/p//',\n",
       " 'Tracking...overdubs and background vocals today. #wherethewildthingsare #VocalLooping \\xe2\\x80\\xa6 https://www. instagram.com/p//']"
      ]
     },
     "execution_count": 79,
     "metadata": {},
     "output_type": "execute_result"
    }
   ],
   "source": [
    "sentences[:10]"
   ]
  },
  {
   "cell_type": "code",
   "execution_count": 80,
   "metadata": {
    "collapsed": true
   },
   "outputs": [],
   "source": [
    "tfidf_vectorizer = TfidfVectorizer(max_df=0.5, min_df=10,\n",
    "                                   max_features=10**5,\n",
    "                                   stop_words='english',\n",
    "                                   strip_accents=\"ascii\"\n",
    "                                  )\n",
    "tfidf = tfidf_vectorizer.fit_transform(sentences)"
   ]
  },
  {
   "cell_type": "code",
   "execution_count": 81,
   "metadata": {},
   "outputs": [
    {
     "data": {
      "text/plain": [
       "[u'hanging',\n",
       " u'bringing',\n",
       " u'wednesday',\n",
       " u'stationcasinos',\n",
       " u'cooking',\n",
       " u'arialv',\n",
       " u'kids',\n",
       " u'golden',\n",
       " u'music',\n",
       " u'want']"
      ]
     },
     "execution_count": 81,
     "metadata": {},
     "output_type": "execute_result"
    }
   ],
   "source": [
    "tfidf_vectorizer.vocabulary_.keys()[:10]"
   ]
  },
  {
   "cell_type": "code",
   "execution_count": 82,
   "metadata": {},
   "outputs": [
    {
     "name": "stdout",
     "output_type": "stream",
     "text": [
      "(29966, 2892)\n"
     ]
    }
   ],
   "source": [
    "print tfidf.shape"
   ]
  },
  {
   "cell_type": "code",
   "execution_count": 83,
   "metadata": {
    "collapsed": true
   },
   "outputs": [],
   "source": [
    "tfidf = tfidf.todense()\n",
    "tfidf = np.unique(tfidf, axis=0)"
   ]
  },
  {
   "cell_type": "code",
   "execution_count": 84,
   "metadata": {},
   "outputs": [
    {
     "name": "stdout",
     "output_type": "stream",
     "text": [
      "(24509, 2892)\n"
     ]
    }
   ],
   "source": [
    "print tfidf.shape\n",
    "from scipy import sparse\n",
    "tfidf = sparse.csr_matrix(tfidf)"
   ]
  },
  {
   "cell_type": "code",
   "execution_count": 85,
   "metadata": {
    "collapsed": true
   },
   "outputs": [],
   "source": [
    "def print_top_words(model, feature_names, n_top_words):\n",
    "    for topic_idx, topic in enumerate(model.components_):\n",
    "        message = \"Topic #%d: \" % topic_idx\n",
    "        message += \" \".join([feature_names[i]\n",
    "                             for i in topic.argsort()[:-n_top_words - 1:-1]])\n",
    "        print(message)\n",
    "    print()"
   ]
  },
  {
   "cell_type": "code",
   "execution_count": 95,
   "metadata": {},
   "outputs": [
    {
     "name": "stdout",
     "output_type": "stream",
     "text": [
      "Topic #0: vegas las bellagio venetian north en cosmopolitan wynn grand downtown mgm fabulous welcome center palazzo bz good sign convention stratosphere\n",
      "Topic #1: bit ly vegastraffic xxmewb accident http blvd rd clark ave nb sb reported approaching right eb dr wb ramp charleston\n",
      "Topic #2: swarmapp nv henderson las lasairport mccarran international airport lunch bar home cafe center pic grill buffet burger restaurant passenger picking\n",
      "Topic #3: beer untp drinking http photo ipa khourysfinewine ale tenayacreek hopnutsbrewing bangerbrewing zombies bottle share beerhaus lager stout hop light sincitybeer\n",
      "Topic #4: lasvegas en lasvegasstrip bellagio tour usa home sincity hiring wynn circlepix vivalasvegas fremont travel lifeisbeautiful vegas lv mandalaybay vegasstrip brunch\n",
      "Topic #5: casino hotel resort rock mirage aria mandalay bay hard luxor paris planet hollywood spa red york flamingo orleans excalibur en\n",
      "Topic #6: just posted photo video bz got like listed retweet park restaurant world want club nightclub bar red home square circlepix\n",
      "Topic #7: nevada north las paradise henderson enterprise spring valley summerlin south bz morning sunrise dog good lol like home mcdonalds work\n",
      "Topic #8: twitter pic nfl raidernation mp http raiders tour home circlepix week status oakland retweet listed vs dlvr listing virtual newest\n",
      "Topic #9: strip las vegas vegasbaby lasvegasstrip scenery en vegasstrong fun cafe walking lv like pie taking enjoying got vegasstrip want need\n",
      "Topic #10: beautiful life lifeisbeautiful festival lib amazing art friends weekend live people living things music come like hard truly city thank\n",
      "Topic #11: love thank people amazing city place support bestoftheday hate friends beatles instacool instago man need thanks music gotta bz home\n",
      "Topic #12: tonight party nightclub come lets today inside git hakkasanlv ready weekend join going vip sunny hi forecast lo marqueelv live\n",
      "Topic #13: time great good got like long mccarran year international game spend having amazing friends today home thank fun spending airport\n",
      "Topic #14: day today good great pool little game best make work fun favorite start amazing awesome tomorrow beautiful sunday week like\n",
      "Topic #15: new york check got placed listing hotel sign brand today products fall video old music fresh shirt need realty trying\n",
      "Topic #16: store urban theun necessities online deadstock size sizes starting preowned supreme phone order xl nmd large medium available box target\n",
      "Topic #17: vegasstrong arena mobile bz mgm grand vegasgoldenknights garden game welcome prayforvegas knights fabulous hockey goldenknights genblue sign city mandalay bay\n",
      "Topic #18: happy birthday halloween best weekend thank wishing shout celebrating little friend monday safe happyhalloween friday costume town month anniversary girl\n",
      "Topic #19: night great fun saturday friday amazing tomorrow thanks fight ready repost dinner thursday concert got vegas good bz little friends\n",
      "()\n"
     ]
    }
   ],
   "source": [
    "nmf = NMF(n_components=n_components, random_state=1,\n",
    "          max_iter=1000, alpha=.1,\n",
    "          l1_ratio=.5).fit(tfidf)\n",
    "\n",
    "tfidf_feature_names = tfidf_vectorizer.get_feature_names()\n",
    "print_top_words(nmf, tfidf_feature_names, n_top_words=20)"
   ]
  },
  {
   "cell_type": "code",
   "execution_count": 96,
   "metadata": {
    "collapsed": true
   },
   "outputs": [],
   "source": [
    "nmf = NMF(n_components=n_components, random_state=1,\n",
    "          beta_loss='kullback-leibler', solver='mu', max_iter=1000, alpha=.1,\n",
    "          l1_ratio=.5).fit(tfidf)"
   ]
  },
  {
   "cell_type": "code",
   "execution_count": 94,
   "metadata": {},
   "outputs": [
    {
     "name": "stdout",
     "output_type": "stream",
     "text": [
      "\n",
      "Topics in NMF model (generalized Kullback-Leibler divergence):\n",
      "Topic #0: vegas las venetian downtown cosmopolitan wynn city baby golf club palazzo stratosphere tbt hello lunch sun em lake shooting walking\n",
      "Topic #1: bit http ly vegastraffic accident xxmewb right blvd rd clark lasvegas ave summerlin nb dr left south sb approaching job\n",
      "Topic #2: nv swarmapp henderson home tour lunch bar lasairport burger grill circlepix station cafe starbucks restaurant waiting listed newest retweet eating\n",
      "Topic #3: beer drinking untp http world photo better big coffee nice start bad watch share light book house delicious ipa squad\n",
      "Topic #4: repost getting come favorite sunday make today friends excited let going days week meet family sure get_repost stop working guys\n",
      "Topic #5: casino hotel resort rock hard red mandalay bay aria canyon view hollywood planet paris spa room mirage luxor flamingo pool\n",
      "Topic #6: like know im look don got want need say lol way think dont feel oh did really believe boy said\n",
      "Topic #7: nevada lasvegas north paradise henderson spring valley em usa selfie sunrise enterprise ya caesarspalace sincity travel current sunset lv mood\n",
      "Topic #8: twitter strip pic nfl week http raidernation mp raiders vegasbaby status vs dlvr oakland st speedway motor tus itsallaboutsupport rocks\n",
      "Topic #9: just posted photo video lasvegas sema palace caesars lasvegasstrip brunch semashow vivalasvegas bar fitness depechemode linq museum travel shops omg\n",
      "Topic #10: life beautiful lifeisbeautiful festival art day enjoying living fall photography route harvest girl dream change loving sunshine lasvegaslocals perfect renaissance\n",
      "Topic #11: love thank people school man place high yes proud support baby city dog sweet follow girls hair gotta kids family\n",
      "Topic #12: tonight party ready nightclub fight join vip inside lets hakkasanlv stage hakkasan live drai table football bz playing weekend canelo\n",
      "Topic #13: time good great got today airport work mccarran international home ve years finally old like went morning took ago long\n",
      "Topic #14: day vegasstrong bz arena mobile game park vegasgoldenknights ufc today sam knights welcome mandalaybay boyd stadium prayforvegas unlv community nhl\n",
      "Topic #15: new check music york live sign coming link house hi fabulous welcome bio soon set group sunny hiphop studio wait\n",
      "Topic #16: center store urban convention theun necessities online blue starting black size deadstock today green white hit available phone order country\n",
      "Topic #17: en bellagio grand mgm la que pool el club adobemax garden adobe mi wedding max genblue beach por una para\n",
      "Topic #18: happy halloween birthday best weekend come friend town morning october monday pumpkin celebrating guy little shout repost month vibes friday\n",
      "Topic #19: night amazing fun thanks great experience street fremont friday awesome saturday having tomorrow looking win food cool dinner big did\n",
      "()\n"
     ]
    }
   ],
   "source": [
    "print(\"\\nTopics in NMF model (generalized Kullback-Leibler divergence):\")\n",
    "tfidf_feature_names = tfidf_vectorizer.get_feature_names()\n",
    "print_top_words(nmf, tfidf_feature_names, n_top_words)\n"
   ]
  },
  {
   "cell_type": "code",
   "execution_count": 17,
   "metadata": {
    "collapsed": true
   },
   "outputs": [],
   "source": []
  },
  {
   "cell_type": "code",
   "execution_count": 88,
   "metadata": {},
   "outputs": [
    {
     "name": "stdout",
     "output_type": "stream",
     "text": [
      "Extracting tf features for LDA...\n"
     ]
    }
   ],
   "source": [
    "# Use tf (raw term count) features for LDA.\n",
    "print(\"Extracting tf features for LDA...\")\n",
    "tf_vectorizer = CountVectorizer(max_df=0.95, min_df=2,\n",
    "                                max_features=n_features,\n",
    "                                stop_words='english')"
   ]
  },
  {
   "cell_type": "code",
   "execution_count": 89,
   "metadata": {
    "collapsed": true
   },
   "outputs": [],
   "source": [
    "tf = tf_vectorizer.fit_transform(sentences)\n"
   ]
  },
  {
   "cell_type": "code",
   "execution_count": null,
   "metadata": {
    "collapsed": true
   },
   "outputs": [],
   "source": []
  },
  {
   "cell_type": "code",
   "execution_count": 90,
   "metadata": {
    "collapsed": true
   },
   "outputs": [],
   "source": [
    "lda = LatentDirichletAllocation(max_iter=5,\n",
    "                                learning_method='online',\n",
    "                                learning_offset=50.,\n",
    "                                random_state=0)"
   ]
  },
  {
   "cell_type": "code",
   "execution_count": 91,
   "metadata": {},
   "outputs": [
    {
     "data": {
      "text/plain": [
       "LatentDirichletAllocation(batch_size=128, doc_topic_prior=None,\n",
       "             evaluate_every=-1, learning_decay=0.7,\n",
       "             learning_method='online', learning_offset=50.0,\n",
       "             max_doc_update_iter=100, max_iter=5, mean_change_tol=0.001,\n",
       "             n_components=10, n_jobs=1, n_topics=None, perp_tol=0.1,\n",
       "             random_state=0, topic_word_prior=None,\n",
       "             total_samples=1000000.0, verbose=0)"
      ]
     },
     "execution_count": 91,
     "metadata": {},
     "output_type": "execute_result"
    }
   ],
   "source": [
    "lda.fit(tf)"
   ]
  },
  {
   "cell_type": "code",
   "execution_count": 92,
   "metadata": {},
   "outputs": [
    {
     "name": "stdout",
     "output_type": "stream",
     "text": [
      "Topic #0: instagram sema www com https arena mobile city bay club mandalay palace excited experience street adobemax semashow man fremont adobe\n",
      "Topic #1: just posted photo happy north humidity windmph video clear temperature sky let going mph live weather la current pressuremb job\n",
      "Topic #2: com https www vegas las nv swarmapp instagram casino hotel life henderson en resort venetian days convention aria center hollywood\n",
      "Topic #3: com twitter pic night http need game year nfl mp raidernation status town vegasgoldenknights tomorrow new flamingo raiders week guy\n",
      "Topic #4: https instagram www com don free guys getting friday ladies morning text vip sat awesome valley stop having paradise fri\n",
      "Topic #5: http bit ly vegastraffic accident xxmewb lasvegas home blvd check tour rd clark world ave think nb right circlepix feel\n",
      "Topic #6: https instagram www com tonight day today love halloween great time party beautiful got weekend fun birthday thank nightclub ready\n",
      "Topic #7: https com www instagram vegas las lasvegas strip vegasstrong amazing know airport international mccarran big lasairport looking baby saturday coming\n",
      "Topic #8: beer http drinking untp store work urban theun little necessities online family photo high house school size want deadstock open\n",
      "Topic #9: https instagram www com vegas las nevada like bz new good come best bellagio lasvegas rock grand red look mgm\n",
      "()\n"
     ]
    }
   ],
   "source": [
    "tf_feature_names = tf_vectorizer.get_feature_names()\n",
    "print_top_words(lda, tf_feature_names, n_top_words)\n"
   ]
  },
  {
   "cell_type": "code",
   "execution_count": null,
   "metadata": {
    "collapsed": true
   },
   "outputs": [],
   "source": []
  }
 ],
 "metadata": {
  "kernelspec": {
   "display_name": "Python 2",
   "language": "python",
   "name": "python2"
  },
  "language_info": {
   "codemirror_mode": {
    "name": "ipython",
    "version": 2
   },
   "file_extension": ".py",
   "mimetype": "text/x-python",
   "name": "python",
   "nbconvert_exporter": "python",
   "pygments_lexer": "ipython2",
   "version": "2.7.13"
  }
 },
 "nbformat": 4,
 "nbformat_minor": 2
}
