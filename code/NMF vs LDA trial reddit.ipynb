{
 "cells": [
  {
   "cell_type": "code",
   "execution_count": 1,
   "metadata": {
    "collapsed": true
   },
   "outputs": [],
   "source": [
    "import pandas as pd\n",
    "import numpy as np\n",
    "import re\n",
    "import glob\n",
    "from sklearn.feature_extraction.text import TfidfVectorizer, CountVectorizer\n",
    "from sklearn.decomposition import NMF, LatentDirichletAllocation\n",
    "from sklearn.datasets import make_moons\n",
    "import matplotlib.pyplot as plt\n",
    "\n",
    "import datetime\n",
    "import nltk\n",
    "import time\n",
    "\n",
    "from shared_lib import utils, vocabulary\n",
    "from shared_lib import ngram_lm\n",
    "from shared_lib import ngram_utils\n",
    "from shared_lib import simple_trigram\n",
    "\n",
    "%matplotlib inline\n",
    "\n"
   ]
  },
  {
   "cell_type": "code",
   "execution_count": 2,
   "metadata": {},
   "outputs": [],
   "source": [
    "boston_bomb_df = pd.read_json('/Users/krista/Desktop/w266-project-master/data/reddit/boston_comments_2013.03-2013.05.txt', lines=True)\n",
    "boston_series_df = pd.read_json('/Users/krista/Desktop/w266-project-master/data/reddit/boston_comments_2013.10-2013.11.txt', lines=True)\n",
    "colorado_df = pd.read_json('/Users/krista/Desktop/w266-project-master/data/reddit/colorado_comments_2017.06-2017.09.txt', lines=True)\n",
    "florida_df = pd.read_json('/Users/krista/Desktop/w266-project-master/data/reddit/florida_comments_2017.06-2017.09.txt', lines=True)\n",
    "houston_df = pd.read_json('/Users/krista/Desktop/w266-project-master/data/reddit/houston_comments_2017.06-2017.09.txt', lines=True)\n",
    "miami_df = pd.read_json('/Users/krista/Desktop/w266-project-master/data/reddit/miami_comments_2017.06-2017.09.txt', lines=True)\n",
    "nyc_df = pd.read_json('/Users/krista/Desktop/w266-project-master/data/reddit/nyc_comments_2012.08-2012.12.txt', lines=True)\n",
    "puerto_rico_df = pd.read_json('/Users/krista/Desktop/w266-project-master/data/reddit/puerto_rico_comments_2017.06-2017.09.txt', lines=True)\n",
    "vegas_df = pd.read_json('/Users/krista/Desktop/w266-project-master/data/reddit/vegas_comments_2017.06-2017.09.txt', lines=True)"
   ]
  },
  {
   "cell_type": "code",
   "execution_count": 36,
   "metadata": {
    "collapsed": true
   },
   "outputs": [],
   "source": [
    "n_samples = 2000\n",
    "n_features = 1000\n",
    "n_components = 30\n",
    "n_top_words = 20"
   ]
  },
  {
   "cell_type": "code",
   "execution_count": 37,
   "metadata": {
    "collapsed": true
   },
   "outputs": [],
   "source": [
    "def print_top_words(model, feature_names, n_top_words):\n",
    "    for topic_idx, topic in enumerate(model.components):\n",
    "        message = \"Topic #%d: \" % topic_idx\n",
    "        message += \" \".join([feature_names[i]\n",
    "                             for i in topic.argsort()[:-n_top_words - 1:-1]])\n",
    "        print(message)\n",
    "    print()"
   ]
  },
  {
   "cell_type": "code",
   "execution_count": 38,
   "metadata": {},
   "outputs": [],
   "source": [
    "#np.sum(pd.read_csv(\"/Users/krista/Desktop/w266-project-master/data/reddit/vegas_comments_2017.06-2017.09.txt\", delimiter=\";\")[\"favorites\"] < 1)"
   ]
  },
  {
   "cell_type": "code",
   "execution_count": 39,
   "metadata": {
    "collapsed": true
   },
   "outputs": [],
   "source": [
    "pattern = \"http\""
   ]
  },
  {
   "cell_type": "code",
   "execution_count": 40,
   "metadata": {},
   "outputs": [],
   "source": [
    "dirs = glob.glob(\"/Users/krista/Desktop/w266-project-master/data/reddit/vegas_comments_2017.06-2017.09.txt\")\n",
    "sentences = []\n",
    "for dir_ in dirs:\n",
    "    try:\n",
    "        df = pd.read_json(dir_, lines=True)\n",
    "#         df = df[~df.text.str.contains(pattern)]\n",
    "        new_sentences = list(df['body'].values)\n",
    "        for sentence in new_sentences:\n",
    "#             regex = re.compile('[^a-zA-Z]')\n",
    "#             sentence = regex.sub(sentence, regex)\n",
    "            sentence = re.sub(r'^https?:\\/\\/.*[\\r\\n]*', '', sentence, flags=re.MULTILINE)\n",
    "            sentence = re.sub(\" \\d+\", '', sentence)\n",
    "            sentence = re.sub(r'\\w*\\d\\w*', '', sentence)\n",
    "        \n",
    "            sentences.append(sentence)\n",
    "    except Exception as e:\n",
    "        print e"
   ]
  },
  {
   "cell_type": "code",
   "execution_count": 59,
   "metadata": {},
   "outputs": [
    {
     "name": "stdout",
     "output_type": "stream",
     "text": [
      "7 mandalay\n",
      "49 shooting\n",
      "7 mandalay bay\n",
      "49 pray\n",
      "55 dead\n"
     ]
    }
   ],
   "source": [
    "vegastxt='/Users/krista/Desktop/w266-project-master/data/reddit/vegas_comments_2017.06-2017.09.txt'\n",
    "\n",
    "def word_count(filename, word):\n",
    "    with open(filename, 'r') as f:\n",
    "        return f.read().count(word)\n",
    "    \n",
    "print word_count(vegastxt, 'mandalay'),  'mandalay'\n",
    "print word_count(vegastxt, 'shooting'), 'shooting'\n",
    "print word_count(vegastxt, 'mandalay'),  'mandalay bay'\n",
    "print word_count(vegastxt, 'shooting'), 'pray'\n",
    "print word_count(vegastxt, 'dead'), 'dead'\n",
    "print word_count(vegastxt, 'Paddock'), 'Paddock'"
   ]
  },
  {
   "cell_type": "code",
   "execution_count": 58,
   "metadata": {},
   "outputs": [
    {
     "name": "stdout",
     "output_type": "stream",
     "text": [
      "75655\n"
     ]
    }
   ],
   "source": [
    "print len(set(w.lower() for w in open(vegastxt).read().split()))"
   ]
  },
  {
   "cell_type": "code",
   "execution_count": 41,
   "metadata": {},
   "outputs": [
    {
     "name": "stdout",
     "output_type": "stream",
     "text": [
      "17838\n"
     ]
    }
   ],
   "source": [
    "print len(sentences)"
   ]
  },
  {
   "cell_type": "code",
   "execution_count": 42,
   "metadata": {},
   "outputs": [
    {
     "data": {
      "text/plain": [
       "[u\"Don't these street picture people make tons of money? \",\n",
       " u\"hmm... some mixed reviews. I'm going to be in that area tomorrow, I'll stop by and check them out.\\n\\nThanks for the recommendation.\\n\",\n",
       " u'[deleted]',\n",
       " u'My SO and I are planning on coming with our three year old. ',\n",
       " u\"Also call Richard Carrillo's office or email him.  I don't want to get banned for posting his email but you can find it by searching his name.\\n\\nHere is what I wrote to him,\\n\\n&gt;Assemblyman Carrillo,\\n\\n\\n&gt;I would advise you to rescind this amendment. \\xa0Ridesharing in Nevada has prevented numerous incidents of impaired driving in Nevada. \\xa0This service is saving countless lives and reducing economic burden to those involved in impaired driving accidents.\\n\\n\\n&gt;We, the citizens of Nevada, will not forget this if you get ridesharing taken away from us.\\n\\n\\n&gt;Thank you for considering the safety of the citizens of Nevada.\\n\\nHe is the representative of District. \",\n",
       " u\"Idk, I'm all for Uber drivers having good insurance. If taxi companies can have it and still be profitable, why can't Uber? I like the convenience but I'd be more comfortable knowing I'm not going to have to split, with other people if my pool wrecks. \",\n",
       " u'Parents who bring young children to Vegas are selfish. Nothing like stumbling out onto the strip at midnight to see a lovely family of four pushing a stroller. \\n\\nGo to Disney World or find a sitter. Vegas is not the place for children. ',\n",
       " u\"They'll attack ridesharing but leave the illegal mexicans who steal all of the skilled trade jobs alone. smh\",\n",
       " u'From someone who has had both herbs and rye and Ellis island, I would love to hear a comprehensive comparison (price, sides, drinks, etc.). I am really digging herbs and rye lately but have not had Ellis island yet.',\n",
       " u\"I have never been to herbs and rye, only Ellis Island so I don't think I'm much help haha \",\n",
       " u\"But doesn't this call for Twice the amount of insurance as cabs? \",\n",
       " u\"Bribery at it's finest. \",\n",
       " u'You are automatically covered formillion when taking a ride with uber. Drivers also have their own insurance that may cover you. Some drivers carry commercial insurance. This bill is BS and if it passes we will be back with only Taxis. ',\n",
       " u'More than, I believe.',\n",
       " u\"It's important not to be for or against a bill because of only one item within. \",\n",
       " u'You might be right. It may have been $,, vs $,-$, for cabs. \\n\\nI do know that they were not equal amounts and appeared designed to crush the ride share business out as those sorts of limits would be unreasonably expensive.',\n",
       " u'Email sent! Will be passing this tidbit along to friends as well. ',\n",
       " u'[deleted]',\n",
       " u'Share it on social media.  Do everything you can.',\n",
       " u'Fuck taxis.',\n",
       " u\"That store looks awful. \\n\\nTiny with no decorations and nothing really special you can't buy at any candy store in town. Looks slightly above gas station level of selection to be honest. Why bother?\",\n",
       " u\"My wife and I love Herbs and Rye and have done the Ellis Island deal several times (although not in at least a year, maybe two).\\n\\nHerbs and Rye has better steaks and more options (both steak cuts and side choices) but is more expensive, even during half-price happy hour. And, of course, their cocktails are excellent. I feel like their food is slightly overpriced when it's not happy hour (love it during HH though). That said, the vibe, service, atmosphere, etc at Herbs and Rye makes it worthwhile, IMO.\\n\\nThe Ellis Island deal is a great deal, but is just an okay steak. If it was $- very few people would be into it, but it's a solid meal at a great price. Also, their beers are surprising good! Brewed on site. They have a few different brews and while they're not mind-blowing, they're all solid craft beers. It's a bummer that they don't include the beer in the deal anymore, but last time I was there aoz was, I think, $, so it's not a huge problem. You should check it out for the kitch factor (and to sing some karaoke) but it's not really comparable to Herbs and Rye in quality or atmosphere.\\n\\nEdit: contractions are hard..\",\n",
       " u\"I'd rather have an Airbnb house nearby than an abandoned/squatter house. And most of the time, that's the other option. \\n\\nAlso, I have a neighbor who books a bouncy castle and a mariachi band about once a month. Not just playing a loud stereo, a live freaking band. Another neighbor hosted a wedding in their yard in March. My point is there are plenty of loud neighbors, Airbnb or not. At least the band is pretty good.\",\n",
       " u\"There's an app called Discotech that you can download to get an idea for table prices... It might be better to have a host to book through, but you can at least use it for comparative purposes.\",\n",
       " u\"Make sure to pay special attention to Richard Carrillo's election.  The citizens of Nevada come before the Taxi Lobby. \",\n",
       " u'Pretty sad that this would be more effective than calling metro.  Something similar worked for a friend that got his car stolen.',\n",
       " u\"Thanks. This is what I was looking for, I'll stick with herbs and rye based on that.\",\n",
       " u\"I generally don't have problems like that to solve in my neighborhood but I'm all for allowing your neighborhood to have a strong voice in deciding what's best for it. That's why I support the bill. The bill is not to ban air bnb. It's to grant licenses for them through due process and neighborhood input/awareness.\",\n",
       " u\" people to one room is a lot. Out of those two rooms, Mirage would be my choice. They are both center strip, and have good bars and clubs, but the Mirage's pool is much better. \\n\",\n",
       " u'Herbal Outfitters eh?']"
      ]
     },
     "execution_count": 42,
     "metadata": {},
     "output_type": "execute_result"
    }
   ],
   "source": [
    "sentences[:30]"
   ]
  },
  {
   "cell_type": "code",
   "execution_count": 43,
   "metadata": {},
   "outputs": [],
   "source": [
    "tfidf_vectorizer = TfidfVectorizer(max_df=0.5, min_df=10,\n",
    "                                   max_features=10**5,\n",
    "                                   stop_words='english',\n",
    "                                   strip_accents=\"ascii\"\n",
    "                                  )\n",
    "tfidf = tfidf_vectorizer.fit_transform(sentences)"
   ]
  },
  {
   "cell_type": "code",
   "execution_count": 44,
   "metadata": {},
   "outputs": [
    {
     "data": {
      "text/plain": [
       "[u'hendertucky',\n",
       " u'hanging',\n",
       " u'increase',\n",
       " u'bringing',\n",
       " u'wednesday',\n",
       " u'thunder',\n",
       " u'kids',\n",
       " u'golden',\n",
       " u'replace',\n",
       " u'music',\n",
       " u'strike',\n",
       " u'paperwork',\n",
       " u'circumstances',\n",
       " u'locked',\n",
       " u'harrahs',\n",
       " u'example',\n",
       " u'want',\n",
       " u'absolute',\n",
       " u'travel',\n",
       " u'feature',\n",
       " u'wrong',\n",
       " u'excited',\n",
       " u'types',\n",
       " u'fit',\n",
       " u'fix',\n",
       " u'easier',\n",
       " u'effects',\n",
       " u'schools',\n",
       " u'volcano',\n",
       " u'development',\n",
       " u'directly',\n",
       " u'series',\n",
       " u'drove',\n",
       " u'rd',\n",
       " u'foundation',\n",
       " u'moment',\n",
       " u'caught',\n",
       " u'speeds',\n",
       " u'renovated',\n",
       " u'service',\n",
       " u'needed',\n",
       " u'master',\n",
       " u'rewards',\n",
       " u'showed',\n",
       " u'tree',\n",
       " u'shower',\n",
       " u'feeling',\n",
       " u'dozen',\n",
       " u'recommended',\n",
       " u'doors']"
      ]
     },
     "execution_count": 44,
     "metadata": {},
     "output_type": "execute_result"
    }
   ],
   "source": [
    "tfidf_vectorizer.vocabulary_.keys()[:50]"
   ]
  },
  {
   "cell_type": "code",
   "execution_count": 45,
   "metadata": {},
   "outputs": [
    {
     "name": "stdout",
     "output_type": "stream",
     "text": [
      "(17838, 3498)\n"
     ]
    }
   ],
   "source": [
    "print tfidf.shape"
   ]
  },
  {
   "cell_type": "code",
   "execution_count": 46,
   "metadata": {
    "collapsed": true
   },
   "outputs": [],
   "source": [
    "tfidf = tfidf.todense()\n",
    "tfidf = np.unique(tfidf, axis=0)"
   ]
  },
  {
   "cell_type": "code",
   "execution_count": 47,
   "metadata": {},
   "outputs": [
    {
     "name": "stdout",
     "output_type": "stream",
     "text": [
      "(15585, 3498)\n"
     ]
    }
   ],
   "source": [
    "print tfidf.shape\n",
    "from scipy import sparse\n",
    "tfidf = sparse.csr_matrix(tfidf)"
   ]
  },
  {
   "cell_type": "code",
   "execution_count": 48,
   "metadata": {
    "collapsed": true
   },
   "outputs": [],
   "source": [
    "def print_top_words(model, feature_names, n_top_words):\n",
    "    for topic_idx, topic in enumerate(model.components_):\n",
    "        message = \"Topic #%d: \" % topic_idx\n",
    "        message += \" \".join([feature_names[i]\n",
    "                             for i in topic.argsort()[:-n_top_words - 1:-1]])\n",
    "        print(message)\n",
    "    print()"
   ]
  },
  {
   "cell_type": "code",
   "execution_count": 49,
   "metadata": {},
   "outputs": [
    {
     "name": "stdout",
     "output_type": "stream",
     "text": [
      "Topic #0: going want day way work lot money area night pay better town gt nice best need probably make year looking\n",
      "Topic #1: com www https http amp reddit imgur message youtube watch html jpg comments np compose facebook news link gallery en\n",
      "Topic #2: thanks info appreciate awesome man reply help definitely advice heads response wow suggestions ok link helpful cool sharing input recommendation\n",
      "Topic #3: vegas las north blvd city live lake best la henderson living welcome groupon areas parts downtown area favorite lived road\n",
      "Topic #4: good luck idea sounds food stuff thing point damn deal steak thought spot selection hear prices buffet pizza start sidebar\n",
      "Topic #5: like looks sounds feel doesn kinda shit stuff live things sound feels fun dress hope little doing looked thought said\n",
      "Topic #6: don know let need didn care use want doing come mind forget asking understand help sorry friends dont comment works\n",
      "Topic #7: just say read saw moved mean don trying maybe wanted walk wondering post thinking opened week curious data floor got\n",
      "Topic #8: people lot group live trying tell fun california shitty dont likely selling crime person poor weed real lots bad stop\n",
      "Topic #9: ll fine pm probably bring tomorrow definitely stop let shot post try hopefully minutes work second cooler likely drive soon\n",
      "Topic #10: look sidebar doesn definitely shit guy history fuck budget absolutely site options cosmo apartments app walgreens ill cars tried difficult\n",
      "Topic #11: strip stay far downtown uber walk casino places walking fremont hotels hotel lyft rooms club near parking away casinos cheaper\n",
      "Topic #12: thank awesome info appreciate wow helpful sounds perfect thought sharing advice contributing response didn looking insight list oh know tips\n",
      "Topic #13: lol dude question shit bud talking talk pay haha actually day guy youre needs definitely getting try wanna damn offer\n",
      "Topic #14: ve seen got heard times years gotten haven used read gone twice best told stayed lived past cirque long shows\n",
      "Topic #15: think don didn thing makes meant year referring ya hopefully ago said chance casino dont boat missed months didnt probably\n",
      "Topic #16: time long happens went hope used summer works frame plenty minutes times taking spend love line stopped share recommend spent\n",
      "Topic #17: really cool nice stuff appreciate bad oh doesn wrong cares guess helpful agree sharing wait read wow isn valley amazing\n",
      "Topic #18: tip tipping service tips staff wrong don food tipped drink gt upgrade waitress job server bucks wage workers waiter valet\n",
      "Topic #19: great shot music photo view trip downtown deal food hear shows price valley restaurant service clean bit thread nice news\n",
      "Topic #20: pretty cool fun awesome big nice small decent night spot bad summerlin shop friend neat cheap deep walking crazy blue\n",
      "Topic #21: sure make im wasn wanted say today idea fun drag sell posted person doesn big possible download use wrong case\n",
      "Topic #22: yes ah hell days haha legal hotel called question actually sub answer road point does wait try little pm wynn\n",
      "Topic #23: did ask didn long turn read haha went years year cox haven stop survive hear oh know work happened mention\n",
      "Topic #24: free parking drinks park tickets locals caesars limo play feel drink casino mgm local fees nights cover club pool charge\n",
      "Topic #25: room hotel rooms book view stayed mgm smoking upgrade night hotels stay staying smoke resort floor suite linq better tower\n",
      "Topic #26: right middle street hey absolutely away man lane left im website proper photo mean shooting turn work able picture company\n",
      "Topic #27: place love nice food sounds beautiful awesome pizza called looking movie old fun kinda dinner miss amazing fancy used enjoy\n",
      "Topic #28: yeah haha hell crazy totally gonna awesome oh thing ill table heck thought man birthday seriously need called insane unique\n",
      "Topic #29: check ill groupon sidebar different bar downtown deals door mobile saloon open club bag things stuff double tomorrow website walk\n",
      "()\n"
     ]
    }
   ],
   "source": [
    "nmf = NMF(n_components=n_components, random_state=1,\n",
    "          max_iter=1000, alpha=.1,\n",
    "          l1_ratio=.5).fit(tfidf)\n",
    "\n",
    "tfidf_feature_names = tfidf_vectorizer.get_feature_names()\n",
    "print_top_words(nmf, tfidf_feature_names, n_top_words=10)"
   ]
  },
  {
   "cell_type": "code",
   "execution_count": 50,
   "metadata": {
    "collapsed": true
   },
   "outputs": [],
   "source": [
    "nmf = NMF(n_components=n_components, random_state=1,\n",
    "          beta_loss='kullback-leibler', solver='mu', max_iter=1000, alpha=.1,\n",
    "          l1_ratio=.5).fit(tfidf)"
   ]
  },
  {
   "cell_type": "code",
   "execution_count": 51,
   "metadata": {},
   "outputs": [
    {
     "name": "stdout",
     "output_type": "stream",
     "text": [
      "\n",
      "Topics in NMF model (generalized Kullback-Leibler divergence):\n",
      "Topic #0: car high end away bit hard way little minutes especially use getting leave experience half long just home large don\n",
      "Topic #1: com https www amp http reddit imgur google facebook message news vegas watch comments jpg link youtube html org county\n",
      "Topic #2: thanks look info help ok appreciate ah reply ll link interesting information sidebar sweet app wow post definitely suggestions site\n",
      "Topic #3: vegas las north city downtown henderson live area lake charleston living la blvd east trip areas boulder valley stratosphere town\n",
      "Topic #4: good luck idea like food beer steak buffet chicken island decent cheap prices tacos sounds selection recommend ellis museum station\n",
      "Topic #5: like looks sounds feel kinda things op fuck look sound doing movie kids vacation kind dick feels doesn hookers joke\n",
      "Topic #6: know don let come use need care asking friends talking happen stupid vote meet comment fact answer help idea business\n",
      "Topic #7: just read thought post wanted posted internet trying maybe data thinking bad article saw good saying logo moved gotta wondering\n",
      "Topic #8: people fuck life job bad cox real said fucking police shitty jobs world california internet cars crime lot working drug\n",
      "Topic #9: year long month interested guy pm hours week hell glad shot friend second stop took tomorrow years came beautiful tell\n",
      "Topic #10: ll people fine don likely stop country tell won group city money look probably hopefully forget bring want areas hi\n",
      "Topic #11: strip lot casino parking far places hotels walking budget near cosmo people linq hotel casinos bars walk dont options staying\n",
      "Topic #12: great thank awesome amazing food agree mind wow really eat nice super god hear experience thread restaurants makes view enjoy\n",
      "Topic #13: lol shit pay actually dude question damn mgm fight expensive hey money course offer op reason guys ya yea thats\n",
      "Topic #14: ve got years seen heard ago couple used haven times months gone told shows weeks lived twice past looked recently\n",
      "Topic #15: think didn did said remember believe nevada website cost tax happened able missed law level state sales terrible pick sell\n",
      "Topic #16: time uber coming hope saw watch strip start lyft outside walk taking summer safe happens morning lot bus fine park\n",
      "Topic #17: going really new isn stuff drive places aren plenty stores times traffic imagine cool knows currently thought york speed area\n",
      "Topic #18: tip money service ask uber pay card book tips cash tipping charge fees extra using available paid credit number driver\n",
      "Topic #19: water dont youre kind worth hour price great getting drink bottle sucks happy bring day im deal depends hot ive\n",
      "Topic #20: pretty sure day cool fun make big went dog blue easy wasn dogs diamond hot light lots park friend small\n",
      "Topic #21: make doesn wrong guess wait person really wynn money win free bucks drinks basically word mean rewards correct answer try\n",
      "Topic #22: yes try area house live bad summerlin looking little rock red home im exactly valley point days south west road\n",
      "Topic #23: room night did rooms hotel pool weekend stayed circus party view floor staying friday mirage tower suite saturday dates aria\n",
      "Topic #24: free bar club play usually inside game spot drinks fun park tables local table music favorite pool nights playing casino\n",
      "Topic #25: work looking stay hotel got doing different open nice able property company bellagio doesn smoke luxor properties caught smoking security\n",
      "Topic #26: right better definitely street fremont true tried absolutely cox left gt picture location fan trump nbsp store main amp worse\n",
      "Topic #27: place does love say nice town way old best pizza school better palms flamingo green type desert city team restaurant\n",
      "Topic #28: best thing need probably buy haha week tickets day hit problem bet way pass totally sell medical miss wait list\n",
      "Topic #29: check want yeah gt oh man id gonna maybe mean sorry weed state crazy smoke fucking wouldn works mobile ill\n",
      "()\n"
     ]
    }
   ],
   "source": [
    "print(\"\\nTopics in NMF model (generalized Kullback-Leibler divergence):\")\n",
    "tfidf_feature_names = tfidf_vectorizer.get_feature_names()\n",
    "print_top_words(nmf, tfidf_feature_names, n_top_words)\n"
   ]
  },
  {
   "cell_type": "code",
   "execution_count": null,
   "metadata": {
    "collapsed": true
   },
   "outputs": [],
   "source": []
  },
  {
   "cell_type": "code",
   "execution_count": 29,
   "metadata": {},
   "outputs": [
    {
     "name": "stdout",
     "output_type": "stream",
     "text": [
      "Extracting tf features for LDA...\n"
     ]
    }
   ],
   "source": [
    "# Use tf (raw term count) features for LDA.\n",
    "print(\"Extracting tf features for LDA...\")\n",
    "tf_vectorizer = CountVectorizer(max_df=0.95, min_df=2,\n",
    "                                max_features=n_features,\n",
    "                                stop_words='english')"
   ]
  },
  {
   "cell_type": "code",
   "execution_count": 30,
   "metadata": {
    "collapsed": true
   },
   "outputs": [],
   "source": [
    "tf = tf_vectorizer.fit_transform(sentences)\n"
   ]
  },
  {
   "cell_type": "code",
   "execution_count": null,
   "metadata": {
    "collapsed": true
   },
   "outputs": [],
   "source": []
  },
  {
   "cell_type": "code",
   "execution_count": 31,
   "metadata": {
    "collapsed": true
   },
   "outputs": [],
   "source": [
    "lda = LatentDirichletAllocation(max_iter=5,\n",
    "                                learning_method='online',\n",
    "                                learning_offset=50.,\n",
    "                                random_state=0)"
   ]
  },
  {
   "cell_type": "code",
   "execution_count": 32,
   "metadata": {},
   "outputs": [
    {
     "data": {
      "text/plain": [
       "LatentDirichletAllocation(batch_size=128, doc_topic_prior=None,\n",
       "             evaluate_every=-1, learning_decay=0.7,\n",
       "             learning_method='online', learning_offset=50.0,\n",
       "             max_doc_update_iter=100, max_iter=5, mean_change_tol=0.001,\n",
       "             n_components=10, n_jobs=1, n_topics=None, perp_tol=0.1,\n",
       "             random_state=0, topic_word_prior=None,\n",
       "             total_samples=1000000.0, verbose=0)"
      ]
     },
     "execution_count": 32,
     "metadata": {},
     "output_type": "execute_result"
    }
   ],
   "source": [
    "lda.fit(tf)"
   ]
  },
  {
   "cell_type": "code",
   "execution_count": 33,
   "metadata": {},
   "outputs": [
    {
     "name": "stdout",
     "output_type": "stream",
     "text": [
      "Topic #0: people don got just like did shit think said pay weekend work month line getting job life man long real\n",
      "Topic #1: strip like don just vegas want good need night free people best place places nice food going bar know ll\n",
      "Topic #2: isn right ll yes money buy don try know like day kind people long better make really different going way\n",
      "Topic #3: com vegas las https www http room lol mgm check red view saw hotel property rock north location resort casino\n",
      "Topic #4: ve time area great lot love drive experience car just place vegas good bad water house year hours town like\n",
      "Topic #5: doesn tip club let service uber just use money way fuck safe time pay tips state won make lyft nevada\n",
      "Topic #6: deleted gt new old does care help hit guy sell months phone days coming dude guys search closed girls imagine\n",
      "Topic #7: know yeah worth thank week think didn ago mean went read couple won looking awesome list weeks called guest question\n",
      "Topic #8: good just sure come pretty point say actually cool going thing look local drink ll tell make want start really\n",
      "Topic #9: amp thanks post reddit message nbsp bot wait compose info body questions automatically pm removed store np new https contact\n",
      "()\n"
     ]
    }
   ],
   "source": [
    "tf_feature_names = tf_vectorizer.get_feature_names()\n",
    "print_top_words(lda, tf_feature_names, n_top_words)\n"
   ]
  },
  {
   "cell_type": "code",
   "execution_count": null,
   "metadata": {
    "collapsed": true
   },
   "outputs": [],
   "source": [
    "\n"
   ]
  }
 ],
 "metadata": {
  "kernelspec": {
   "display_name": "Python 2",
   "language": "python",
   "name": "python2"
  },
  "language_info": {
   "codemirror_mode": {
    "name": "ipython",
    "version": 2
   },
   "file_extension": ".py",
   "mimetype": "text/x-python",
   "name": "python",
   "nbconvert_exporter": "python",
   "pygments_lexer": "ipython2",
   "version": "2.7.13"
  }
 },
 "nbformat": 4,
 "nbformat_minor": 2
}
